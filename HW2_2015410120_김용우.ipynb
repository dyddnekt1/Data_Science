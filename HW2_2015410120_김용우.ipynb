{
  "nbformat": 4,
  "nbformat_minor": 0,
  "metadata": {
    "kernelspec": {
      "display_name": "Python 3",
      "language": "python",
      "name": "python3"
    },
    "language_info": {
      "codemirror_mode": {
        "name": "ipython",
        "version": 3
      },
      "file_extension": ".py",
      "mimetype": "text/x-python",
      "name": "python",
      "nbconvert_exporter": "python",
      "pygments_lexer": "ipython3",
      "version": "3.7.6"
    },
    "colab": {
      "name": "HW2_2015410120_김용우.ipynb",
      "provenance": [],
      "include_colab_link": true
    }
  },
  "cells": [
    {
      "cell_type": "markdown",
      "metadata": {
        "id": "view-in-github",
        "colab_type": "text"
      },
      "source": [
        "<a href=\"https://colab.research.google.com/github/dyddnekt1/Data_Science/blob/master/HW2_2015410120_%EA%B9%80%EC%9A%A9%EC%9A%B0.ipynb\" target=\"_parent\"><img src=\"https://colab.research.google.com/assets/colab-badge.svg\" alt=\"Open In Colab\"/></a>"
      ]
    },
    {
      "cell_type": "markdown",
      "metadata": {
        "id": "Qk_8Boz5sZES",
        "colab_type": "text"
      },
      "source": [
        "2020-05-16 오후 5시 55분에 실행했습니다."
      ]
    },
    {
      "cell_type": "markdown",
      "metadata": {
        "id": "0g_aKS-zbBGG",
        "colab_type": "text"
      },
      "source": [
        "## __ Ready for Assingment __\n",
        "-  install [python](https://www.python.org/)\n",
        "\n",
        "- install python\n",
        "     - install [anaconda](https://www.continuum.io/downloads) for science, math, and data analysis.\n",
        "     \n",
        "       The installation process please refer to the __blackboard__.\n",
        "\n",
        "\n",
        "- install libraries\n",
        "     - install libraries\n",
        "         \n",
        "         - [pandas](http://pandas.pydata.org/), for data frames\n",
        "         - [matplotlib](http://matplotlib.org/), for plotting\n",
        "         - [requests](http://docs.python-requests.org/en/latest/), for fetching web content\n",
        "         - [pattern](http://www.clips.ua.ac.be/pages/pattern) or [beautiful soup](http://www.crummy.com/software/BeautifulSoup/bs4/doc/), for parsing html and xml pages\n",
        "         \n",
        "------------------------------------------"
      ]
    },
    {
      "cell_type": "markdown",
      "metadata": {
        "id": "bygoEct7bBGH",
        "colab_type": "text"
      },
      "source": [
        "### CHECK YOUR PYTHON VERSION\n",
        "- #### Assingment made by python 3.x\n",
        "- #### It will be easy for you to use same version with TA"
      ]
    },
    {
      "cell_type": "code",
      "metadata": {
        "id": "A1N-qL98bBGH",
        "colab_type": "code",
        "outputId": "57798fd6-dca3-4ef5-b8ee-ae20563dd7bb",
        "colab": {
          "base_uri": "https://localhost:8080/",
          "height": 34
        }
      },
      "source": [
        "import sys\n",
        "sys.version"
      ],
      "execution_count": 0,
      "outputs": [
        {
          "output_type": "execute_result",
          "data": {
            "text/plain": [
              "'3.6.9 (default, Apr 18 2020, 01:56:04) \\n[GCC 8.4.0]'"
            ]
          },
          "metadata": {
            "tags": []
          },
          "execution_count": 1
        }
      ]
    },
    {
      "cell_type": "markdown",
      "metadata": {
        "id": "5vsD1zUtbBGL",
        "colab_type": "text"
      },
      "source": [
        "# HW2 - Data Scraping & Taste of Data Analysis\n",
        "\n",
        "#### Data Science in Korea University\n",
        "#### COSE471, Spring 2020\n",
        "#### Due : 5/17 (SUN)  11:59 PM "
      ]
    },
    {
      "cell_type": "markdown",
      "metadata": {
        "id": "Gy3GLcGXbBGL",
        "colab_type": "text"
      },
      "source": [
        "## Fetching coronavirus-19(COVID-19) pandemic data from Wikipedia\n",
        "\n",
        "In this example we will fetch data about countries and their COVID-19 from Wikipedia.\n",
        "\n",
        "https://en.wikipedia.org/wiki/2019%E2%80%9320_coronavirus_pandemic has several tables for individual countries, subcontinents as well as timelines. \n",
        "\n",
        "\n",
        "###We will go through the following steps:\n",
        "* fetching html with embedded data\n",
        "* parsing html to extract the data\n",
        "* collecting the data in a panda dataframe\n",
        "* displaying the data\n",
        "\n",
        "To give you some starting points for your homework, we will also show the different sub-steps that can be taken to reach the presented solution."
      ]
    },
    {
      "cell_type": "code",
      "metadata": {
        "id": "Y6irGMiObBGM",
        "colab_type": "code",
        "colab": {}
      },
      "source": [
        "# special IPython command to prepare the notebook for matplotlib\n",
        "%matplotlib inline \n",
        "\n",
        "from collections import defaultdict\n",
        "import pandas as pd\n",
        "import matplotlib.pyplot as plt\n",
        "import requests\n",
        "from bs4 import BeautifulSoup"
      ],
      "execution_count": 0,
      "outputs": []
    },
    {
      "cell_type": "markdown",
      "metadata": {
        "id": "qgSoPgUBbBGO",
        "colab_type": "text"
      },
      "source": [
        "## 0. Fetching the Wikipedia site\n",
        "\n",
        "#### print html code of presented page\n",
        "\n",
        "\n",
        "\n",
        "> *`<!DOCTYPE html>`*<br/>\n",
        "> *`<html class=\"client-nojs\" lang=\"en\" dir=\"ltr\">`*<br/>\n",
        "> *`<head>`*<br/>\n",
        "> *`<meta charset=\"UTF-8\"/>`*<br/>\n",
        "> *`<title>2019–20 coronavirus pandemic by country and territory - Wikipedia</title>`*<br/>\n",
        "> *`...`*<br/>\n",
        "> *`</script>`*<br/>\n",
        "> *`</body>`*<br/>\n",
        "> *`</html>`*<br/>\n",
        "\n",
        "##### Use requests library\n"
      ]
    },
    {
      "cell_type": "code",
      "metadata": {
        "id": "ZeGwgupPbBGP",
        "colab_type": "code",
        "colab": {}
      },
      "source": [
        "url = 'https://en.wikipedia.org/wiki/2019%E2%80%9320_coronavirus_pandemic_by_country_and_territory'\n",
        "###YOUR CODE HERE###\n",
        "html = requests.get(url)\n",
        "soup = BeautifulSoup(html.text)\n",
        "\n",
        "print(soup)"
      ],
      "execution_count": 0,
      "outputs": []
    },
    {
      "cell_type": "markdown",
      "metadata": {
        "id": "kar22fI5bBGR",
        "colab_type": "text"
      },
      "source": [
        "## 1. Parsing html data\n",
        "\n",
        "Data that we are going to use is table titled below:\n",
        "\n",
        "#### Title: 2019–20 coronavirus pandemic by country and territory\n",
        "\n",
        "*print html code of parsed table: 2019–20 coronavirus pandemic by country and territory*\n",
        "\n",
        "> *`<table ... id=\"thetable\">`*<br/>\n",
        "> *`<tr>`*<br/>\n",
        "> *`<th>#</th>`*<br/>\n",
        "> *`<th>Countries and territories</th>`*<br/>\n",
        "> *`...`*<br/>\n",
        "> *`</td>`*<br/>\n",
        "> *`</tr>`*<br/>\n",
        "> *`</table>`*<br/>\n",
        "\n",
        "##### Use BeautifulSoup\n",
        "*hint: class/id can be assigned for elements of html.\n"
      ]
    },
    {
      "cell_type": "code",
      "metadata": {
        "id": "UYWBIi9rbBGR",
        "colab_type": "code",
        "colab": {}
      },
      "source": [
        "\"\"\"Parse html and return html tables of wikipedia coronavirus_pandemic data.\"\"\"\n",
        "\n",
        "#step1: look at html source!\"\n",
        "#step2: get all tables\"\n",
        "#step3: get table we care about\"\n",
        "    \n",
        "###YOUR CODE HERE###\n",
        "tables = soup.find_all('table', {'id':'thetable'})\n",
        "table = tables[0]\n",
        "\n",
        "print(table)"
      ],
      "execution_count": 0,
      "outputs": []
    },
    {
      "cell_type": "markdown",
      "metadata": {
        "id": "S4fdatG9bBGT",
        "colab_type": "text"
      },
      "source": [
        "## 2. Extracting data and filling it into a dictionary(Python data stucture)\n",
        "\n",
        "#### Extract COVID-19 data for countries from table and store it in dictionary.\n",
        "*Please print parsed dictionary at the end of code*\n",
        "\n",
        "##### Shape of Dictionary\n",
        "- { 'country_name': { 'cases' : 'num', 'deaths' : 'num', 'recovers' : 'num' }}\n",
        "- *Dictionary data structure does not have order between Keys, so it may show up in different order(index).  You don't need to be worried of it*\n",
        "- e.g. 'Uzbekistan': {'cases': '2,017', 'deaths': '9', 'recovers': '1,096'}, 'Puerto Rico': {'cases': '1,539', 'deaths': '92', 'recovers': '—'} ..."
      ]
    },
    {
      "cell_type": "code",
      "metadata": {
        "id": "xjPoBNQbbBGU",
        "colab_type": "code",
        "outputId": "1873801b-468c-43a6-9720-3628691d71d9",
        "colab": {
          "base_uri": "https://localhost:8080/",
          "height": 54
        }
      },
      "source": [
        "# extract headings and actual data and combine data into single dict\n",
        "###YOUR CODE HERE###\n",
        "def parseInt(s):\n",
        "  try:\n",
        "    ret = int(s.replace(',',''))\n",
        "  except:\n",
        "    return -1\n",
        "  else:\n",
        "    return ret\n",
        "\n",
        "datas = table.find_all('tr')\n",
        "datas = datas[2:-2]\n",
        "\n",
        "dict = {}\n",
        "for data in datas:\n",
        "  country_name = data.find('a').text\n",
        "  numbers = data.find_all('td')\n",
        "  cases = parseInt(numbers[0].text)\n",
        "  deaths = parseInt(numbers[1].text)\n",
        "  recovers = parseInt(numbers[2].text)\n",
        "  dict[country_name] = {'cases':cases,'deaths':deaths,'recovers':recovers}\n",
        "\n",
        "print(dict)"
      ],
      "execution_count": 0,
      "outputs": [
        {
          "output_type": "stream",
          "text": [
            "{'United States': {'cases': 1472743, 'deaths': 88199, 'recovers': 259834}, 'Russia': {'cases': 262843, 'deaths': 2418, 'recovers': 58226}, 'United Kingdom': {'cases': 236711, 'deaths': 33998, 'recovers': -1}, 'Spain': {'cases': 230183, 'deaths': 27459, 'recovers': 144783}, 'Italy': {'cases': 223885, 'deaths': 31610, 'recovers': 120205}, 'Brazil': {'cases': 219258, 'deaths': 14929, 'recovers': 84970}, 'Germany': {'cases': 175699, 'deaths': 8001, 'recovers': 151700}, 'Turkey': {'cases': 146457, 'deaths': 4055, 'recovers': 106133}, 'France': {'cases': 141919, 'deaths': 27529, 'recovers': 60448}, 'Iran': {'cases': 116635, 'deaths': 6902, 'recovers': 91836}, 'Peru': {'cases': 84495, 'deaths': 2392, 'recovers': 27147}, 'China': {'cases': 82933, 'deaths': 4633, 'recovers': 78209}, 'India': {'cases': 81970, 'deaths': 2649, 'recovers': 27920}, 'Canada': {'cases': 74613, 'deaths': 5562, 'recovers': 36895}, 'Belgium': {'cases': 54644, 'deaths': 8959, 'recovers': 14301}, 'Saudi Arabia': {'cases': 49176, 'deaths': 292, 'recovers': 21869}, 'Netherlands': {'cases': 43681, 'deaths': 5643, 'recovers': -1}, 'Mexico': {'cases': 45032, 'deaths': 4767, 'recovers': 30451}, 'Chile': {'cases': 39542, 'deaths': 394, 'recovers': 16614}, 'Pakistan': {'cases': 37218, 'deaths': 803, 'recovers': 10155}, 'Ecuador': {'cases': 31467, 'deaths': 3594, 'recovers': 3433}, 'Switzerland': {'cases': 30514, 'deaths': 1595, 'recovers': 27200}, 'Qatar': {'cases': 29425, 'deaths': 14, 'recovers': 3546}, 'Sweden': {'cases': 29207, 'deaths': 3646, 'recovers': 4971}, 'Portugal': {'cases': 28583, 'deaths': 1190, 'recovers': 3328}, 'Belarus': {'cases': 27730, 'deaths': 156, 'recovers': 8807}, 'Singapore': {'cases': 26891, 'deaths': 21, 'recovers': 7248}, 'Ireland': {'cases': 23956, 'deaths': 1518, 'recovers': 19470}, 'United Arab Emirates': {'cases': 21831, 'deaths': 210, 'recovers': 7328}, 'Bangladesh': {'cases': 20065, 'deaths': 298, 'recovers': 3882}, 'Poland': {'cases': 18016, 'deaths': 907, 'recovers': 6918}, 'Ukraine': {'cases': 17330, 'deaths': 476, 'recovers': 4473}, 'Israel': {'cases': 16589, 'deaths': 266, 'recovers': 12587}, 'Indonesia': {'cases': 16496, 'deaths': 1076, 'recovers': 3803}, 'Romania': {'cases': 16437, 'deaths': 1056, 'recovers': 9370}, 'Japan': {'cases': 16253, 'deaths': 729, 'recovers': 10809}, 'Austria': {'cases': 16065, 'deaths': 628, 'recovers': 14471}, 'Colombia': {'cases': 14216, 'deaths': 546, 'recovers': 3460}, 'South Africa': {'cases': 13524, 'deaths': 247, 'recovers': 6083}, 'Kuwait': {'cases': 12860, 'deaths': 96, 'recovers': 3640}, 'Philippines': {'cases': 12091, 'deaths': 806, 'recovers': 2460}, 'Dominican Republic': {'cases': 11739, 'deaths': 424, 'recovers': 33557}, 'Egypt': {'cases': 11228, 'deaths': 592, 'recovers': 3363}, 'South Korea': {'cases': 11037, 'deaths': 262, 'recovers': 9851}, 'Denmark': {'cases': 10791, 'deaths': 537, 'recovers': 8959}, 'Serbia': {'cases': 10438, 'deaths': 225, 'recovers': 4301}, 'Panama': {'cases': 9268, 'deaths': 266, 'recovers': 6080}, 'Czech Republic': {'cases': 8406, 'deaths': 295, 'recovers': 5381}, 'Norway': {'cases': 8219, 'deaths': 232, 'recovers': 7114}, 'Argentina': {'cases': 7121, 'deaths': 353, 'recovers': 2372}, 'Australia': {'cases': 7023, 'deaths': 98, 'recovers': 6337}, 'Malaysia': {'cases': 6855, 'deaths': 112, 'recovers': 5439}, 'Morocco': {'cases': 6652, 'deaths': 190, 'recovers': 3400}, 'Algeria': {'cases': 6629, 'deaths': 536, 'recovers': 3271}, 'Bahrain': {'cases': 6583, 'deaths': 12, 'recovers': 2640}, 'Finland': {'cases': 6228, 'deaths': 287, 'recovers': 4300}, 'Afghanistan': {'cases': 6053, 'deaths': 153, 'recovers': 745}, 'Moldova': {'cases': 5745, 'deaths': 202, 'recovers': 2280}, 'Kazakhstan': {'cases': 5689, 'deaths': 34, 'recovers': 2558}, 'Ghana': {'cases': 5638, 'deaths': 28, 'recovers': 1460}, 'Nigeria': {'cases': 5450, 'deaths': 171, 'recovers': 1320}, 'Oman': {'cases': 4625, 'deaths': 19, 'recovers': 1350}, 'Armenia': {'cases': 4044, 'deaths': 52, 'recovers': 1666}, 'Luxembourg': {'cases': 3923, 'deaths': 104, 'recovers': 3682}, 'Hungary': {'cases': 3417, 'deaths': 442, 'recovers': 1287}, 'Bolivia': {'cases': 3372, 'deaths': 152, 'recovers': 356}, 'Iraq': {'cases': 3193, 'deaths': 117, 'recovers': 2089}, 'Thailand': {'cases': 3025, 'deaths': 56, 'recovers': 2854}, 'Azerbaijan': {'cases': 2980, 'deaths': 36, 'recovers': 1886}, 'Cameroon': {'cases': 2954, 'deaths': 139, 'recovers': 1555}, 'Greece': {'cases': 2810, 'deaths': 160, 'recovers': 1464}, 'Uzbekistan': {'cases': 2686, 'deaths': 11, 'recovers': 2158}, 'Puerto Rico': {'cases': 2542, 'deaths': 122, 'recovers': 850}, 'Guinea': {'cases': 2531, 'deaths': 15, 'recovers': 1094}, 'Honduras': {'cases': 2318, 'deaths': 133, 'recovers': 253}, 'Senegal': {'cases': 2310, 'deaths': 25, 'recovers': 890}, 'Bosnia & Herzegovina': {'cases': 2236, 'deaths': 128, 'recovers': 1336}, 'Croatia': {'cases': 2222, 'deaths': 95, 'recovers': 1869}, 'Bulgaria': {'cases': 2138, 'deaths': 102, 'recovers': 545}, 'Ivory Coast': {'cases': 2017, 'deaths': 24, 'recovers': 942}, 'Sudan': {'cases': 1964, 'deaths': 91, 'recovers': 205}, 'Cuba': {'cases': 1840, 'deaths': 79, 'recovers': 1425}, 'Iceland': {'cases': 1802, 'deaths': 10, 'recovers': 1782}, 'Estonia': {'cases': 1766, 'deaths': 63, 'recovers': 923}, 'North Macedonia': {'cases': 1740, 'deaths': 97, 'recovers': 1251}, 'Guatemala': {'cases': 1643, 'deaths': 30, 'recovers': 135}, 'Lithuania': {'cases': 1523, 'deaths': 54, 'recovers': 965}, 'Slovakia': {'cases': 1480, 'deaths': 27, 'recovers': 1131}, 'Slovenia': {'cases': 1465, 'deaths': 103, 'recovers': 270}, 'Djibouti': {'cases': 1309, 'deaths': 4, 'recovers': 935}, 'DR Congo': {'cases': 1298, 'deaths': 50, 'recovers': 212}, 'Somalia': {'cases': 1284, 'deaths': 53, 'recovers': 135}, 'El Salvador': {'cases': 1210, 'deaths': 23, 'recovers': 416}, 'Gabon': {'cases': 1209, 'deaths': 10, 'recovers': 219}, 'New Zealand': {'cases': 1148, 'deaths': 21, 'recovers': 1421}, 'Tajikistan': {'cases': 1118, 'deaths': 33, 'recovers': 0}, 'Kyrgyzstan': {'cases': 1111, 'deaths': 14, 'recovers': 745}, 'USS Theodore Roosevelt': {'cases': 1102, 'deaths': 1, 'recovers': 53}, 'Charles de Gaulle': {'cases': 1081, 'deaths': 0, 'recovers': 0}, 'Hong Kong': {'cases': 1053, 'deaths': 4, 'recovers': 1019}, 'Tunisia': {'cases': 1035, 'deaths': 45, 'recovers': 802}, 'Maldives': {'cases': 1031, 'deaths': 4, 'recovers': 46}, 'Latvia': {'cases': 970, 'deaths': 19, 'recovers': 662}, 'Kosovo': {'cases': 944, 'deaths': 29, 'recovers': 690}, 'Sri Lanka': {'cases': 935, 'deaths': 9, 'recovers': 477}, 'Albania': {'cases': 916, 'deaths': 31, 'recovers': 705}, 'Guinea-Bissau': {'cases': 913, 'deaths': 3, 'recovers': 26}, 'Cyprus': {'cases': 910, 'deaths': 17, 'recovers': 481}, 'Lebanon': {'cases': 891, 'deaths': 26, 'recovers': 246}, 'Niger': {'cases': 885, 'deaths': 51, 'recovers': 684}, 'Costa Rica': {'cases': 843, 'deaths': 8, 'recovers': 542}, 'Mali': {'cases': 806, 'deaths': 46, 'recovers': 455}, 'Kenya': {'cases': 781, 'deaths': 45, 'recovers': 284}, 'Burkina Faso': {'cases': 780, 'deaths': 51, 'recovers': 595}, 'Andorra': {'cases': 761, 'deaths': 49, 'recovers': 604}, 'Paraguay': {'cases': 759, 'deaths': 11, 'recovers': 193}, 'Uruguay': {'cases': 732, 'deaths': 19, 'recovers': 553}, 'Diamond Princess': {'cases': 712, 'deaths': 14, 'recovers': 651}, 'Georgia': {'cases': 671, 'deaths': 12, 'recovers': 393}, 'Zambia': {'cases': 668, 'deaths': 7, 'recovers': 152}, 'San Marino': {'cases': 652, 'deaths': 41, 'recovers': 189}, 'Jordan': {'cases': 596, 'deaths': 9, 'recovers': 401}, 'Equatorial Guinea': {'cases': 594, 'deaths': 7, 'recovers': 22}, 'Malta': {'cases': 532, 'deaths': 6, 'recovers': 458}, 'Jamaica': {'cases': 509, 'deaths': 9, 'recovers': 113}, 'Tanzania': {'cases': 509, 'deaths': 21, 'recovers': 183}, 'Venezuela': {'cases': 459, 'deaths': 10, 'recovers': 229}, 'Sierra Leone': {'cases': 447, 'deaths': 27, 'recovers': 97}, 'Taiwan': {'cases': 440, 'deaths': 7, 'recovers': 383}, 'Chad': {'cases': 428, 'deaths': 48, 'recovers': 88}, 'Congo': {'cases': 391, 'deaths': 15, 'recovers': 87}, 'Palestine': {'cases': 375, 'deaths': 2, 'recovers': 315}, 'Benin': {'cases': 339, 'deaths': 2, 'recovers': 83}, 'Isle of Man': {'cases': 334, 'deaths': 24, 'recovers': 285}, 'Mauritius': {'cases': 332, 'deaths': 10, 'recovers': 322}, 'Cape Verde': {'cases': 326, 'deaths': 2, 'recovers': 67}, 'Montenegro': {'cases': 324, 'deaths': 9, 'recovers': 311}, 'Vietnam': {'cases': 313, 'deaths': 0, 'recovers': 260}, 'Luhansk PR': {'cases': 308, 'deaths': 2, 'recovers': 12}, 'Central African Republic': {'cases': 301, 'deaths': 0, 'recovers': 13}, 'Jersey': {'cases': 297, 'deaths': 27, 'recovers': 226}, 'Ethiopia': {'cases': 287, 'deaths': 5, 'recovers': 112}, 'Rwanda': {'cases': 287, 'deaths': 0, 'recovers': 177}, 'Haiti': {'cases': 273, 'deaths': 20, 'recovers': 18}, 'Togo': {'cases': 263, 'deaths': 11, 'recovers': 96}, 'Nepal': {'cases': 258, 'deaths': 0, 'recovers': 35}, 'Guernsey': {'cases': 252, 'deaths': 13, 'recovers': 231}, 'Madagascar': {'cases': 238, 'deaths': 0, 'recovers': 112}, 'São Tomé & Príncipe': {'cases': 235, 'deaths': 7, 'recovers': 4}, 'South Sudan': {'cases': 231, 'deaths': 1, 'recovers': 3}, 'Donetsk PR': {'cases': 229, 'deaths': 5, 'recovers': 36}, 'Liberia': {'cases': 219, 'deaths': 20, 'recovers': 108}, 'Uganda': {'cases': 203, 'deaths': 0, 'recovers': 63}, 'Eswatini': {'cases': 190, 'deaths': 2, 'recovers': 66}, 'Faroe Islands': {'cases': 187, 'deaths': 0, 'recovers': 187}, 'Myanmar': {'cases': 181, 'deaths': 6, 'recovers': 89}, 'Guam': {'cases': 154, 'deaths': 5, 'recovers': 128}, 'Costa Atlantica': {'cases': 148, 'deaths': 0, 'recovers': 0}, 'Gibraltar': {'cases': 147, 'deaths': 0, 'recovers': 144}, 'Brunei': {'cases': 141, 'deaths': 1, 'recovers': 134}, 'Greg Mortimer': {'cases': 128, 'deaths': 0, 'recovers': -1}, 'Bermuda': {'cases': 122, 'deaths': 9, 'recovers': 66}, 'Cambodia': {'cases': 122, 'deaths': 0, 'recovers': 121}, 'Mozambique': {'cases': 119, 'deaths': 0, 'recovers': 42}, 'Trinidad & Tobago': {'cases': 116, 'deaths': 8, 'recovers': 107}, 'Guyana': {'cases': 113, 'deaths': 10, 'recovers': 41}, 'Northern Cyprus': {'cases': 108, 'deaths': 4, 'recovers': 104}, 'Yemen': {'cases': 106, 'deaths': 15, 'recovers': 1}, 'Aruba': {'cases': 101, 'deaths': 3, 'recovers': 93}, 'Mongolia': {'cases': 98, 'deaths': 0, 'recovers': 15}, 'Bahamas': {'cases': 96, 'deaths': 11, 'recovers': 41}, 'Monaco': {'cases': 96, 'deaths': 4, 'recovers': 87}, 'Cayman Islands': {'cases': 94, 'deaths': 1, 'recovers': 55}, 'Barbados': {'cases': 85, 'deaths': 7, 'recovers': 65}, 'Liechtenstein': {'cases': 82, 'deaths': 1, 'recovers': 55}, 'Sint Maarten': {'cases': 77, 'deaths': 15, 'recovers': 54}, 'Somaliland': {'cases': 70, 'deaths': 0, 'recovers': 15}, 'U.S. Virgin Islands': {'cases': 69, 'deaths': 6, 'recovers': 61}, 'Libya': {'cases': 64, 'deaths': 3, 'recovers': 28}, 'French Polynesia': {'cases': 60, 'deaths': 0, 'recovers': 59}, 'Malawi': {'cases': 63, 'deaths': 3, 'recovers': 24}, 'Syria': {'cases': 50, 'deaths': 3, 'recovers': 36}, 'Angola': {'cases': 48, 'deaths': 2, 'recovers': 14}, 'Macau': {'cases': 45, 'deaths': 0, 'recovers': 43}, 'Zimbabwe': {'cases': 42, 'deaths': 4, 'recovers': 13}, 'Eritrea': {'cases': 39, 'deaths': 0, 'recovers': 38}, 'South Ossetia': {'cases': 30, 'deaths': 0, 'recovers': 0}, 'Mauritania': {'cases': 29, 'deaths': 3, 'recovers': 7}, 'Nicaragua': {'cases': 25, 'deaths': 8, 'recovers': 7}, 'Antigua & Barbuda': {'cases': 24, 'deaths': 3, 'recovers': 11}, 'East Timor': {'cases': 24, 'deaths': 0, 'recovers': 21}, 'Botswana': {'cases': 24, 'deaths': 1, 'recovers': 17}, 'The Gambia': {'cases': 23, 'deaths': 1, 'recovers': 12}, 'Grenada': {'cases': 22, 'deaths': 0, 'recovers': 14}, 'Bhutan': {'cases': 21, 'deaths': 0, 'recovers': 5}, 'Artsakh': {'cases': 20, 'deaths': 0, 'recovers': 8}, 'Laos': {'cases': 19, 'deaths': 0, 'recovers': 14}, 'Northern Mariana Islands ': {'cases': 19, 'deaths': 2, 'recovers': 12}, 'Belize': {'cases': 18, 'deaths': 2, 'recovers': 16}, 'Fiji': {'cases': 18, 'deaths': 0, 'recovers': 15}, 'New Caledonia': {'cases': 18, 'deaths': 0, 'recovers': 18}, 'Saint Lucia': {'cases': 18, 'deaths': 0, 'recovers': 18}, 'Abkhazia': {'cases': 17, 'deaths': 1, 'recovers': 2}, 'Saint Vincent': {'cases': 17, 'deaths': 0, 'recovers': 14}, 'Curaçao': {'cases': 16, 'deaths': 1, 'recovers': 14}, 'Dominica': {'cases': 16, 'deaths': 0, 'recovers': 15}, 'Namibia': {'cases': 16, 'deaths': 0, 'recovers': 13}, 'Burundi': {'cases': 15, 'deaths': 1, 'recovers': 7}, 'Saint Kitts & Nevis': {'cases': 15, 'deaths': 0, 'recovers': 14}, 'Falkland Islands': {'cases': 13, 'deaths': 0, 'recovers': 13}, 'MS Zaandam': {'cases': 13, 'deaths': 4, 'recovers': -1}, 'Coral Princess': {'cases': 12, 'deaths': 2, 'recovers': -1}, 'Turks & Caicos Islands': {'cases': 12, 'deaths': 1, 'recovers': 10}, 'Vatican City': {'cases': 12, 'deaths': 0, 'recovers': 2}, 'Comoros': {'cases': 11, 'deaths': 1, 'recovers': 3}, 'Greenland': {'cases': 11, 'deaths': 0, 'recovers': 11}, 'Montserrat': {'cases': 11, 'deaths': 1, 'recovers': 8}, 'Seychelles': {'cases': 11, 'deaths': 0, 'recovers': 7}, 'Suriname': {'cases': 10, 'deaths': 1, 'recovers': 9}, 'British Virgin Islands': {'cases': 8, 'deaths': 1, 'recovers': 6}, 'HNLMS Dolfijn': {'cases': 8, 'deaths': 0, 'recovers': -1}, 'Papua New Guinea': {'cases': 8, 'deaths': 0, 'recovers': 8}, 'Anguilla': {'cases': 3, 'deaths': 0, 'recovers': 3}, 'Bonaire': {'cases': 2, 'deaths': 0, 'recovers': 2}, 'Saba': {'cases': 2, 'deaths': 0, 'recovers': 2}, 'Sint Eustatius': {'cases': 2, 'deaths': 0, 'recovers': 2}, 'Lesotho': {'cases': 1, 'deaths': 0, 'recovers': 0}, 'Saint Pierre & Miquelon': {'cases': 1, 'deaths': 0, 'recovers': 1}}\n"
          ],
          "name": "stdout"
        }
      ]
    },
    {
      "cell_type": "markdown",
      "metadata": {
        "id": "JDRhThezbBGW",
        "colab_type": "text"
      },
      "source": [
        "## 3. Creating a dataframe(Python data structure) from a dictionary\n",
        "\n",
        "* Shape of dataframe must be like following table.\n",
        "* i.e. indices: country_name, columns: cases, deaths, recovers\n",
        "<table>\n",
        "  <tr>\n",
        "    <th></th>\n",
        "    <th>cases</th>\n",
        "    <th>deaths</th>\n",
        "    <th>recovers</th>\n",
        "  </tr>\n",
        "  <tr>\n",
        "    <td>United States</td>\n",
        "    <td>1,095,645</td>\n",
        "    <td>63,746</td>\n",
        "    <td>132,544</td>\n",
        "  </tr>\n",
        "  <tr>\n",
        "    <td>Spain</td>\n",
        "    <td>213,435</td>\n",
        "    <td>24,543</td>\n",
        "    <td>112,050</td>\n",
        "  </tr>\n",
        "  <tr>\n",
        "    <td>&nbsp;&nbsp;&nbsp;&nbsp;&nbsp;&nbsp;&nbsp;...&nbsp;&nbsp;&nbsp;&nbsp;&nbsp;&nbsp;</td>\n",
        "    <td>&nbsp;&nbsp;&nbsp;&nbsp;&nbsp;&nbsp;&nbsp;...&nbsp;&nbsp;&nbsp;&nbsp;&nbsp;&nbsp;</td>\n",
        "    <td>&nbsp;&nbsp;&nbsp;&nbsp;&nbsp;&nbsp;&nbsp;...&nbsp;&nbsp;&nbsp;&nbsp;&nbsp;&nbsp;</td>\n",
        "    <td>&nbsp;&nbsp;&nbsp;&nbsp;&nbsp;&nbsp;&nbsp;...&nbsp;&nbsp;&nbsp;&nbsp;&nbsp;&nbsp;</td>\n",
        "    <td></td>\n",
        "  </tr>\n",
        "  <tr>\n",
        "    <td>Saint Pierre & Miquelon</td>\n",
        "    <td>1</td>\n",
        "    <td>0</td>\n",
        "    <td>0</td>\n",
        "  </tr>\n",
        "</table>"
      ]
    },
    {
      "cell_type": "code",
      "metadata": {
        "id": "dqsD9YT4bBGW",
        "colab_type": "code",
        "outputId": "fb692488-54e8-4dd1-dfeb-dfbecf048e34",
        "colab": {
          "base_uri": "https://localhost:8080/",
          "height": 263
        }
      },
      "source": [
        "#step1: create dataframe(indices: country_name, columns: cases, deaths, recovers)\n",
        "#step2: replace '—' to 0\n",
        "\n",
        "###YOUR CODE HERE###\n",
        "# Use the following code\n",
        "df = pd.DataFrame.from_dict(dict, orient='index')\n",
        "df = df.replace(-1, 0)\n",
        "print(df)"
      ],
      "execution_count": 0,
      "outputs": [
        {
          "output_type": "stream",
          "text": [
            "                           cases  deaths  recovers\n",
            "United States            1472743   88199    259834\n",
            "Russia                    262843    2418     58226\n",
            "United Kingdom            236711   33998         0\n",
            "Spain                     230183   27459    144783\n",
            "Italy                     223885   31610    120205\n",
            "...                          ...     ...       ...\n",
            "Bonaire                        2       0         2\n",
            "Saba                           2       0         2\n",
            "Sint Eustatius                 2       0         2\n",
            "Lesotho                        1       0         0\n",
            "Saint Pierre & Miquelon        1       0         1\n",
            "\n",
            "[228 rows x 3 columns]\n"
          ],
          "name": "stdout"
        }
      ]
    },
    {
      "cell_type": "markdown",
      "metadata": {
        "id": "23IZSrRSbBGZ",
        "colab_type": "text"
      },
      "source": [
        "## 4-1. Adding some data(death rates) from the original dataframe\n",
        "\n",
        "* Calculate death rates by 'deaths/cases'\n",
        "* Add the death rates column to original data frame named 'death_rates'\n",
        "* Decimal place of death rates is two. i.e. 0.26\n",
        "\n",
        "<table>\n",
        "  <tr>\n",
        "    <th></th>\n",
        "    <th>cases</th>\n",
        "    <th>deaths</th>\n",
        "    <th>recovers</th>\n",
        "    <th>death_rates</th>\n",
        "  </tr>\n",
        "  <tr>\n",
        "    <td>United States</td>\n",
        "    <td>1095645</td>\n",
        "    <td>63746</td>\n",
        "    <td>132544</td>\n",
        "    <td>0.06</td>\n",
        "  </tr>\n",
        "  <tr>\n",
        "    <td>Spain</td>\n",
        "    <td>213435</td>\n",
        "    <td>24543</td>\n",
        "    <td>112050</td>\n",
        "    <td>0.11</td>\n",
        "  </tr>\n",
        "  <tr>\n",
        "    <td>&nbsp;&nbsp;&nbsp;&nbsp;&nbsp;&nbsp;&nbsp;...&nbsp;&nbsp;&nbsp;&nbsp;&nbsp;&nbsp;</td>\n",
        "    <td>&nbsp;&nbsp;&nbsp;&nbsp;&nbsp;&nbsp;&nbsp;...&nbsp;&nbsp;&nbsp;&nbsp;&nbsp;&nbsp;</td>\n",
        "    <td>&nbsp;&nbsp;&nbsp;&nbsp;&nbsp;&nbsp;&nbsp;...&nbsp;&nbsp;&nbsp;&nbsp;&nbsp;&nbsp;</td>\n",
        "    <td>&nbsp;&nbsp;&nbsp;&nbsp;&nbsp;&nbsp;&nbsp;...&nbsp;&nbsp;&nbsp;&nbsp;&nbsp;&nbsp;</td>\n",
        "    <td>&nbsp;&nbsp;&nbsp;&nbsp;&nbsp;&nbsp;&nbsp;...&nbsp;&nbsp;&nbsp;&nbsp;&nbsp;&nbsp;</td>\n",
        "    <td></td>\n",
        "  </tr>\n",
        "  <tr>\n",
        "    <td>Saint Pierre & Miquelon</td>\n",
        "    <td>1</td>\n",
        "    <td>0</td>\n",
        "    <td>0</td>\n",
        "    <td>0.00</td>\n",
        "  </tr>\n",
        "</table>"
      ]
    },
    {
      "cell_type": "code",
      "metadata": {
        "id": "D8PH0oijbBGZ",
        "colab_type": "code",
        "outputId": "1f24856d-0cb3-416f-9365-8b74938e7496",
        "colab": {
          "base_uri": "https://localhost:8080/",
          "height": 263
        }
      },
      "source": [
        "#step1: calculate death rates(to calculate death rates, strings in dataframe should be converted to numeric datas)\n",
        "#step2: add \"death_rates\" column to dataframe \n",
        "#step3: sort based on death rates \n",
        "\n",
        "###YOUR CODE HERE###\n",
        "pd.options.display.float_format = '{:.2f}'.format\n",
        "\n",
        "df['death_rates'] = df['deaths'] / df['cases']\n",
        "df = df.sort_values('death_rates', ascending = False)\n",
        "print(df)"
      ],
      "execution_count": 0,
      "outputs": [
        {
          "output_type": "stream",
          "text": [
            "                          cases  deaths  recovers  death_rates\n",
            "Nicaragua                    25       8         7         0.32\n",
            "MS Zaandam                   13       4         0         0.31\n",
            "Sint Maarten                 77      15        54         0.19\n",
            "France                   141919   27529     60448         0.19\n",
            "Coral Princess               12       2         0         0.17\n",
            "...                         ...     ...       ...          ...\n",
            "New Caledonia                18       0        18         0.00\n",
            "Saint Lucia                  18       0        18         0.00\n",
            "Gibraltar                   147       0       144         0.00\n",
            "Saint Vincent                17       0        14         0.00\n",
            "Saint Pierre & Miquelon       1       0         1         0.00\n",
            "\n",
            "[228 rows x 4 columns]\n"
          ],
          "name": "stdout"
        }
      ]
    },
    {
      "cell_type": "markdown",
      "metadata": {
        "id": "I8pnw33lbBGb",
        "colab_type": "text"
      },
      "source": [
        "## 5-1. Print top 5 countries with the highest/lowest death rates by COVID-19. (total 10 countries)"
      ]
    },
    {
      "cell_type": "code",
      "metadata": {
        "id": "spJfDDOJbBGc",
        "colab_type": "code",
        "outputId": "dd4eb2bf-2612-4f8a-f2b6-09fccc4ed0c7",
        "colab": {
          "base_uri": "https://localhost:8080/",
          "height": 228
        }
      },
      "source": [
        "###YOUR CODE HERE###\n",
        "# highest 5\n",
        "print(df.head(5))\n",
        "# lowest 5\n",
        "print(df.tail(5))"
      ],
      "execution_count": 0,
      "outputs": [
        {
          "output_type": "stream",
          "text": [
            "                 cases  deaths  recovers  death_rates\n",
            "Nicaragua           25       8         7         0.32\n",
            "MS Zaandam          13       4         0         0.31\n",
            "Sint Maarten        77      15        54         0.19\n",
            "France          141919   27529     60448         0.19\n",
            "Coral Princess      12       2         0         0.17\n",
            "                         cases  deaths  recovers  death_rates\n",
            "New Caledonia               18       0        18         0.00\n",
            "Saint Lucia                 18       0        18         0.00\n",
            "Gibraltar                  147       0       144         0.00\n",
            "Saint Vincent               17       0        14         0.00\n",
            "Saint Pierre & Miquelon      1       0         1         0.00\n"
          ],
          "name": "stdout"
        }
      ]
    },
    {
      "cell_type": "markdown",
      "metadata": {
        "id": "jppem0pjbBGe",
        "colab_type": "text"
      },
      "source": [
        "## 5-2. Create a sub-dataframe for the five countries extracted in question 5-1(highest case).\n",
        "\n",
        "<table class=\"tg\">\n",
        "  <tr>\n",
        "    <th class=\"tg-yw4l\"></th>\n",
        "    <th class=\"tg-yw4l\">cases</th>\n",
        "    <th class=\"tg-yw4l\">deaths</th>\n",
        "    <th class=\"tg-baqh\">recovers</th>\n",
        "    <th class=\"tg-yw4l\">death_rates</th>\n",
        "  </tr>\n",
        "  <tr>\n",
        "    <td class=\"tg-yw4l\">Nicaragua</td>\n",
        "    <td class=\"tg-yw4l\">25</td>\n",
        "    <td class=\"tg-yw4l\">8</td>\n",
        "    <td class=\"tg-yw4l\">7</td>\n",
        "    <td class=\"tg-yw4l\">0.32</td>\n",
        "  </tr>\n",
        "  <tr>\n",
        "    <td class=\"tg-yw4l\">MS Zaandam</td>\n",
        "    <td class=\"tg-yw4l\">13</td>\n",
        "    <td class=\"tg-yw4l\">4</td>\n",
        "    <td class=\"tg-yw4l\">0</td>\n",
        "    <td class=\"tg-yw4l\">0.31</td>\n",
        "  </tr>\n",
        "  <tr>\n",
        "    <td class=\"tg-baqh\">Sint Maarten</td>\n",
        "    <td class=\"tg-yw4l\">77</td>\n",
        "    <td class=\"tg-yw4l\">15</td>\n",
        "    <td class=\"tg-yw4l\">54</td>\n",
        "    <td class=\"tg-yw4l\">0.19</td>\n",
        "  </tr>\n",
        "  <tr>\n",
        "    <td class=\"tg-yw4l\">France</td>\n",
        "    <td class=\"tg-yw4l\">141919</td>\n",
        "    <td class=\"tg-yw4l\">27529</td>\n",
        "    <td class=\"tg-yw4l\">60448</td>\n",
        "    <td class=\"tg-yw4l\">0.19</td>\n",
        "  </tr>\n",
        "  <tr>\n",
        "    <td class=\"tg-yw4l\">Coral Princess</td>\n",
        "    <td class=\"tg-yw4l\">12</td>\n",
        "    <td class=\"tg-yw4l\">2</td>\n",
        "    <td class=\"tg-yw4l\">0</td>\n",
        "    <td class=\"tg-yw4l\">0.17</td>\n",
        "  </tr>\n",
        "</table>"
      ]
    },
    {
      "cell_type": "markdown",
      "metadata": {
        "id": "CgfaosQkbBGf",
        "colab_type": "text"
      },
      "source": [
        "## 5-3. Plot Grouped bar chart with labels using dataframe that created from problem 5-2."
      ]
    },
    {
      "cell_type": "code",
      "metadata": {
        "id": "15P-vFuIbBGf",
        "colab_type": "code",
        "outputId": "9d18c792-c2f5-4fd0-c23f-e36ddfd6bf08",
        "colab": {
          "base_uri": "https://localhost:8080/",
          "height": 326
        }
      },
      "source": [
        "###YOUR CODE HERE###\n",
        "# Use the following code(you can use log scale for better visualize)\n",
        "labels = ['Nicaragua', 'MS Zaandam', 'Sint Maarten', 'France', 'Coral Princess']\n",
        "cases = [25, 13, 77, 141919, 12]\n",
        "deaths = [8, 4, 15, 27529, 2]\n",
        "recovers = [7, 0, 54, 60448, 0]\n",
        "\n",
        "subdf = pd.DataFrame([cases, deaths, recovers], columns=labels, index=['cases', 'deaths', 'recover'])\n",
        "ax = subdf.plot(kind = 'bar')\n",
        "ax.set_yscale('log')\n",
        "ax.set_ylabel('number of patients')\n",
        "ax.set_title('number of patients by contry')"
      ],
      "execution_count": 0,
      "outputs": [
        {
          "output_type": "execute_result",
          "data": {
            "text/plain": [
              "Text(0.5, 1.0, 'number of patients by contry')"
            ]
          },
          "metadata": {
            "tags": []
          },
          "execution_count": 9
        },
        {
          "output_type": "display_data",
          "data": {
            "image/png": "[encoded data removed]",
            "text/plain": [
              "<Figure size 432x288 with 1 Axes>"
            ]
          },
          "metadata": {
            "tags": [],
            "needs_background": "light"
          }
        }
      ]
    }
  ]
}