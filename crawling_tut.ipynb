{
  "nbformat": 4,
  "nbformat_minor": 0,
  "metadata": {
    "kernelspec": {
      "display_name": "Python 3",
      "language": "python",
      "name": "python3"
    },
    "language_info": {
      "codemirror_mode": {
        "name": "ipython",
        "version": 3
      },
      "file_extension": ".py",
      "mimetype": "text/x-python",
      "name": "python",
      "nbconvert_exporter": "python",
      "pygments_lexer": "ipython3",
      "version": "3.7.3"
    },
    "colab": {
      "name": "crawling_tut.ipynb",
      "provenance": [],
      "include_colab_link": true
    }
  },
  "cells": [
    {
      "cell_type": "markdown",
      "metadata": {
        "id": "view-in-github",
        "colab_type": "text"
      },
      "source": [
        "<a href=\"https://colab.research.google.com/github/dyddnekt1/Data_Science/blob/master/crawling_tut.ipynb\" target=\"_parent\"><img src=\"https://colab.research.google.com/assets/colab-badge.svg\" alt=\"Open In Colab\"/></a>"
      ]
    },
    {
      "cell_type": "markdown",
      "metadata": {
        "id": "2AJqzufaaM0d",
        "colab_type": "text"
      },
      "source": [
        "# Let's get some data from Wikipedia!\n",
        "### We'll collect Economy Statistics of Singapore\n",
        "In order to do so, we'll use some libraries like \"Beautiful Soup\" or \"request\".\n",
        "<br>First, let's import libraries"
      ]
    },
    {
      "cell_type": "code",
      "metadata": {
        "id": "z8piKsKDaM0f",
        "colab_type": "code",
        "colab": {}
      },
      "source": [
        "from bs4 import BeautifulSoup\n",
        "import requests #"
      ],
      "execution_count": 0,
      "outputs": []
    },
    {
      "cell_type": "markdown",
      "metadata": {
        "id": "g12SGOYxaM0i",
        "colab_type": "text"
      },
      "source": [
        "### Let's get raw text of Wiki page\n",
        "from https://en.wikipedia.org/wiki/Economy_of_Singapore"
      ]
    },
    {
      "cell_type": "code",
      "metadata": {
        "scrolled": true,
        "id": "MlB9JAStaM0j",
        "colab_type": "code",
        "colab": {},
        "outputId": "6aee06d9-f0e6-401e-d28e-19b9d0d801ff"
      },
      "source": [
        "wiki_URL = 'https://en.wikipedia.org/wiki/Economy_of_Singapore'\n",
        "wiki_r=requests.get(wiki_URL)\n",
        "\n",
        "#print wiki_r.text\n",
        "print (len(wiki_r.text))"
      ],
      "execution_count": 0,
      "outputs": [
        {
          "output_type": "stream",
          "text": [
            "369964\n"
          ],
          "name": "stdout"
        }
      ]
    },
    {
      "cell_type": "markdown",
      "metadata": {
        "id": "OpUHrYMOaM0m",
        "colab_type": "text"
      },
      "source": [
        "Let's use Beautifull Soup!\n",
        "<br>ref : https://www.crummy.com/software/BeautifulSoup/bs4/doc/"
      ]
    },
    {
      "cell_type": "code",
      "metadata": {
        "id": "ZnT2yLt4aM0n",
        "colab_type": "code",
        "colab": {},
        "outputId": "610a650f-5bba-4ccd-b8e3-e7b05a9229c3"
      },
      "source": [
        "soup=BeautifulSoup(wiki_r.text, \"lxml\") #lxml for choosing parser \n",
        "type(soup) #this will show you type of given object"
      ],
      "execution_count": 0,
      "outputs": [
        {
          "output_type": "execute_result",
          "data": {
            "text/plain": [
              "bs4.BeautifulSoup"
            ]
          },
          "metadata": {
            "tags": []
          },
          "execution_count": 3
        }
      ]
    },
    {
      "cell_type": "code",
      "metadata": {
        "id": "CVxAay5xaM0p",
        "colab_type": "code",
        "colab": {},
        "outputId": "6b083874-d194-4ede-b090-f90d8585a57a"
      },
      "source": [
        "tables=soup.find_all('table',{'class':'wikitable'})\n",
        "print (len(tables), type(tables[0]))"
      ],
      "execution_count": 0,
      "outputs": [
        {
          "output_type": "stream",
          "text": [
            "6 <class 'bs4.element.Tag'>\n"
          ],
          "name": "stdout"
        }
      ]
    },
    {
      "cell_type": "code",
      "metadata": {
        "id": "qi6dSHwQaM0r",
        "colab_type": "code",
        "colab": {},
        "outputId": "07a8ae55-f41e-4d8d-eeda-102900efa43c"
      },
      "source": [
        "print (tables[0])"
      ],
      "execution_count": 0,
      "outputs": [
        {
          "output_type": "stream",
          "text": [
            "<table class=\"wikitable sortable\" style=\"text-align:center;\">\n",
            "<caption><b>Economic statistics:  2014 to 2018</b><br/>\n",
            "Sources:<sup class=\"reference\" id=\"cite_ref-38\"><a href=\"#cite_note-38\">[37]</a></sup><sup class=\"reference\" id=\"cite_ref-39\"><a href=\"#cite_note-39\">[38]</a></sup><sup class=\"reference\" id=\"cite_ref-40\"><a href=\"#cite_note-40\">[39]</a></sup><sup class=\"reference\" id=\"cite_ref-41\"><a href=\"#cite_note-41\">[40]</a></sup><sup class=\"reference\" id=\"cite_ref-42\"><a href=\"#cite_note-42\">[41]</a></sup><sup class=\"reference\" id=\"cite_ref-43\"><a href=\"#cite_note-43\">[42]</a></sup><sup class=\"reference\" id=\"cite_ref-44\"><a href=\"#cite_note-44\">[43]</a></sup><sup class=\"reference\" id=\"cite_ref-45\"><a href=\"#cite_note-45\">[44]</a></sup><sup class=\"reference\" id=\"cite_ref-46\"><a href=\"#cite_note-46\">[45]</a></sup>\n",
            "</caption>\n",
            "<tbody><tr>\n",
            "<th>Year\n",
            "</th>\n",
            "<th>GDP\n",
            "<p>nominal\n",
            "</p><p>(billion)\n",
            "</p>\n",
            "</th>\n",
            "<th>GDP\n",
            "<p>nominal\n",
            "</p><p>per capita\n",
            "</p>\n",
            "</th>\n",
            "<th><a class=\"mw-redirect\" href=\"/wiki/Real_Gross_Domestic_Product\" title=\"Real Gross Domestic Product\">GDP real</a>\n",
            "<p>(billion)\n",
            "</p>\n",
            "</th>\n",
            "<th><a class=\"mw-redirect\" href=\"/wiki/Gross_National_Income\" title=\"Gross National Income\">GNI</a> nominal\n",
            "<p>(billion)\n",
            "</p>\n",
            "</th>\n",
            "<th>GNI\n",
            "<p>nominal\n",
            "</p><p>per capita\n",
            "</p>\n",
            "</th>\n",
            "<th>Foreign\n",
            "<p>reserves\n",
            "</p><p>(billion)\n",
            "</p>\n",
            "</th>\n",
            "<th>Average\n",
            "<p>exchange rate\n",
            "</p><p>(1<a href=\"/wiki/United_States_dollar\" title=\"United States dollar\">US$</a> to <a href=\"/wiki/Singapore_dollar\" title=\"Singapore dollar\">S$</a>)\n",
            "</p>\n",
            "</th></tr>\n",
            "<tr>\n",
            "<td>2014\n",
            "</td>\n",
            "<td><a href=\"/wiki/Singapore_dollar\" title=\"Singapore dollar\">S$</a>398.987\n",
            "</td>\n",
            "<td><a href=\"/wiki/Singapore_dollar\" title=\"Singapore dollar\">S$</a>72,937\n",
            "</td>\n",
            "<td><a href=\"/wiki/Singapore_dollar\" title=\"Singapore dollar\">S$</a>411.540\n",
            "</td>\n",
            "<td><a href=\"/wiki/Singapore_dollar\" title=\"Singapore dollar\">S$</a>385,070\n",
            "</td>\n",
            "<td><a href=\"/wiki/Singapore_dollar\" title=\"Singapore dollar\">S$</a>70,400\n",
            "</td>\n",
            "<td><a href=\"/wiki/Singapore_dollar\" title=\"Singapore dollar\">S$</a>340.438\n",
            "</td>\n",
            "<td><a href=\"/wiki/Singapore_dollar\" title=\"Singapore dollar\">S$</a>1.2671\n",
            "</td></tr>\n",
            "<tr>\n",
            "<td>2015\n",
            "</td>\n",
            "<td><a href=\"/wiki/Singapore_dollar\" title=\"Singapore dollar\">S$</a>423.444\n",
            "</td>\n",
            "<td><a href=\"/wiki/Singapore_dollar\" title=\"Singapore dollar\">S$</a>76,502\n",
            "</td>\n",
            "<td><a href=\"/wiki/Singapore_dollar\" title=\"Singapore dollar\">S$</a>423.444\n",
            "</td>\n",
            "<td><a href=\"/wiki/Singapore_dollar\" title=\"Singapore dollar\">S$</a>394.551\n",
            "</td>\n",
            "<td><a href=\"/wiki/Singapore_dollar\" title=\"Singapore dollar\">S$</a>71,283\n",
            "</td>\n",
            "<td><a href=\"/wiki/Singapore_dollar\" title=\"Singapore dollar\">S$</a>350.991\n",
            "</td>\n",
            "<td><a href=\"/wiki/Singapore_dollar\" title=\"Singapore dollar\">S$</a>1.3748\n",
            "</td></tr>\n",
            "<tr>\n",
            "<td>2016\n",
            "</td>\n",
            "<td><a href=\"/wiki/Singapore_dollar\" title=\"Singapore dollar\">S$</a>439.412\n",
            "</td>\n",
            "<td><a href=\"/wiki/Singapore_dollar\" title=\"Singapore dollar\">S$</a>78,364\n",
            "</td>\n",
            "<td><a href=\"/wiki/Singapore_dollar\" title=\"Singapore dollar\">S$</a>435.988\n",
            "</td>\n",
            "<td><a href=\"/wiki/Singapore_dollar\" title=\"Singapore dollar\">S$</a>408.820\n",
            "</td>\n",
            "<td><a href=\"/wiki/Singapore_dollar\" title=\"Singapore dollar\">S$</a>72,909\n",
            "</td>\n",
            "<td><a href=\"/wiki/Singapore_dollar\" title=\"Singapore dollar\">S$</a>356.254\n",
            "</td>\n",
            "<td><a href=\"/wiki/Singapore_dollar\" title=\"Singapore dollar\">S$</a>1.3815\n",
            "</td></tr>\n",
            "<tr>\n",
            "<td>2017\n",
            "</td>\n",
            "<td><a href=\"/wiki/Singapore_dollar\" title=\"Singapore dollar\">S$</a>467.306\n",
            "</td>\n",
            "<td><a href=\"/wiki/Singapore_dollar\" title=\"Singapore dollar\">S$</a>83,265\n",
            "</td>\n",
            "<td><a href=\"/wiki/Singapore_dollar\" title=\"Singapore dollar\">S$</a>452.119\n",
            "</td>\n",
            "<td><a href=\"/wiki/Singapore_dollar\" title=\"Singapore dollar\">S$</a>434.806\n",
            "</td>\n",
            "<td><a href=\"/wiki/Singapore_dollar\" title=\"Singapore dollar\">S$</a>77,474\n",
            "</td>\n",
            "<td><a href=\"/wiki/Singapore_dollar\" title=\"Singapore dollar\">S$</a>373.994\n",
            "</td>\n",
            "<td><a href=\"/wiki/Singapore_dollar\" title=\"Singapore dollar\">S$</a>1.3807\n",
            "</td></tr>\n",
            "<tr>\n",
            "<td>2018\n",
            "</td>\n",
            "<td><a href=\"/wiki/Singapore_dollar\" title=\"Singapore dollar\">S$</a>491.174\n",
            "</td>\n",
            "<td><a href=\"/wiki/Singapore_dollar\" title=\"Singapore dollar\">S$</a>87,108\n",
            "</td>\n",
            "<td><a href=\"/wiki/Singapore_dollar\" title=\"Singapore dollar\">S$</a>466.313\n",
            "</td>\n",
            "<td><a href=\"/wiki/Singapore_dollar\" title=\"Singapore dollar\">S$</a>457.983\n",
            "</td>\n",
            "<td><a href=\"/wiki/Singapore_dollar\" title=\"Singapore dollar\">S$</a>81,222\n",
            "</td>\n",
            "<td><a href=\"/wiki/Singapore_dollar\" title=\"Singapore dollar\">S$</a>392.096\n",
            "</td>\n",
            "<td><a href=\"/wiki/Singapore_dollar\" title=\"Singapore dollar\">S$</a>1.3491\n",
            "</td></tr></tbody></table>\n"
          ],
          "name": "stdout"
        }
      ]
    },
    {
      "cell_type": "code",
      "metadata": {
        "id": "BE62-IDPaM0u",
        "colab_type": "code",
        "colab": {},
        "outputId": "bfcf26b2-71d7-499a-d265-8ecf7ee7516a"
      },
      "source": [
        "years=tables[0].find_all('tr')\n",
        "print (len(years))"
      ],
      "execution_count": 0,
      "outputs": [
        {
          "output_type": "stream",
          "text": [
            "6\n"
          ],
          "name": "stdout"
        }
      ]
    },
    {
      "cell_type": "code",
      "metadata": {
        "id": "IN8OUT_QaM0x",
        "colab_type": "code",
        "colab": {},
        "outputId": "723e12e1-2ce0-42c0-8988-cf6fbe2bd7f6"
      },
      "source": [
        "GDPperCap=years[-1].find_all(\"td\")[2] #years[-1] is same with years[5]\n",
        "GDPperCap"
      ],
      "execution_count": 0,
      "outputs": [
        {
          "output_type": "execute_result",
          "data": {
            "text/plain": [
              "<td><a href=\"/wiki/Singapore_dollar\" title=\"Singapore dollar\">S$</a>87,108\n",
              "</td>"
            ]
          },
          "metadata": {
            "tags": []
          },
          "execution_count": 7
        }
      ]
    },
    {
      "cell_type": "code",
      "metadata": {
        "id": "sA4rwrojaM0z",
        "colab_type": "code",
        "colab": {},
        "outputId": "341ffb9b-4b41-41eb-c32f-51bc61e0c91b"
      },
      "source": [
        "len(GDPperCap)"
      ],
      "execution_count": 0,
      "outputs": [
        {
          "output_type": "execute_result",
          "data": {
            "text/plain": [
              "2"
            ]
          },
          "metadata": {
            "tags": []
          },
          "execution_count": 8
        }
      ]
    },
    {
      "cell_type": "code",
      "metadata": {
        "id": "kKR0zvsuaM01",
        "colab_type": "code",
        "colab": {},
        "outputId": "bb2ab352-ce25-4ee9-95c9-15e01ed908be"
      },
      "source": [
        "# I will show you dynamic way\n",
        "GpcText=GDPperCap.text\n",
        "GpcText"
      ],
      "execution_count": 0,
      "outputs": [
        {
          "output_type": "execute_result",
          "data": {
            "text/plain": [
              "'S$87,108\\n'"
            ]
          },
          "metadata": {
            "tags": []
          },
          "execution_count": 9
        }
      ]
    },
    {
      "cell_type": "code",
      "metadata": {
        "id": "-xRs9-_HaM04",
        "colab_type": "code",
        "colab": {},
        "outputId": "40efab6d-6645-4f8a-c618-f2f9bb30ff57"
      },
      "source": [
        "print (type(GpcText))\n",
        "GpcText.split(\"\\n\")[0]"
      ],
      "execution_count": 0,
      "outputs": [
        {
          "output_type": "stream",
          "text": [
            "<class 'str'>\n"
          ],
          "name": "stdout"
        },
        {
          "output_type": "execute_result",
          "data": {
            "text/plain": [
              "'S$87,108'"
            ]
          },
          "metadata": {
            "tags": []
          },
          "execution_count": 10
        }
      ]
    },
    {
      "cell_type": "code",
      "metadata": {
        "id": "61X8v411aM06",
        "colab_type": "code",
        "colab": {},
        "outputId": "f6c6edd8-30d2-4839-910a-2d624754799b"
      },
      "source": [
        "print (GpcText.split(\"\\n\")[0][3:])\n",
        "\n",
        "temptxt=GpcText.split(\"\\n\")[0][3:]\n",
        "print (temptxt.replace(',',''),type(temptxt.replace(',','')))\n",
        "\n",
        "GPCint=int(GpcText.split(\"\\n\")[0][3:].replace(',',''))\n",
        "\n",
        "print (GPCint, type(GPCint))\n",
        "print (\"Got it!\")"
      ],
      "execution_count": 0,
      "outputs": [
        {
          "output_type": "stream",
          "text": [
            "7,108\n",
            "7108 <class 'str'>\n",
            "7108 <class 'int'>\n",
            "Got it!\n"
          ],
          "name": "stdout"
        }
      ]
    },
    {
      "cell_type": "code",
      "metadata": {
        "id": "90yLJATlaM08",
        "colab_type": "code",
        "colab": {}
      },
      "source": [
        ""
      ],
      "execution_count": 0,
      "outputs": []
    }
  ]
}